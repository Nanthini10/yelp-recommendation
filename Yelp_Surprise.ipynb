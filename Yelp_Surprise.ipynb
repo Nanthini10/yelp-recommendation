{
 "cells": [
  {
   "cell_type": "code",
   "execution_count": 1,
   "metadata": {},
   "outputs": [],
   "source": [
    "# package imports\n",
    "# basics\n",
    "import numpy as np\n",
    "import pandas as pd"
   ]
  },
  {
   "cell_type": "markdown",
   "metadata": {},
   "source": [
    "# Surprise package installation\n",
    "\n",
    "Using pip:\n",
    "pip install scikit-surprise\n",
    "\n",
    "Using Conda:\n",
    "conda install -c conda-forge scikit-surprise\n",
    "\n",
    "For more information: https://github.com/NicolasHug/Surprise "
   ]
  },
  {
   "cell_type": "code",
   "execution_count": 2,
   "metadata": {},
   "outputs": [],
   "source": [
    "# surprise packages: Install using above commands!\n",
    "from surprise import SVDpp\n",
    "from surprise import Dataset\n",
    "from surprise.model_selection import cross_validate\n",
    "from surprise import Reader"
   ]
  },
  {
   "cell_type": "code",
   "execution_count": 3,
   "metadata": {},
   "outputs": [],
   "source": [
    "# Load the data into pandas dataframes, we are interested only in reviews in order to get a recommendaation system\n",
    "reviews=pd.read_csv(\"data/yelp_review.csv\")"
   ]
  },
  {
   "cell_type": "markdown",
   "metadata": {},
   "source": [
    "# Evaluation Metrics\n",
    "\n",
    "#### RMSE: Root Mean Squared Error\n",
    "\n",
    "#### MAE: Mean Squared Error\n",
    "\n",
    "#### FCP: Fraction of Concordation Pairs\n",
    "\n",
    "1. Measures the fraction of concordant pairs, it is a measure that generalizes the known AUC metric into non-binary ordered outcomes\n",
    "\n",
    "2. Considers the predictions of CF as ordinal values\n",
    "\n",
    "3. Read more: http://www.ijcai.org/Proceedings/13/Papers/449.pdf"
   ]
  },
  {
   "cell_type": "code",
   "execution_count": 4,
   "metadata": {},
   "outputs": [
    {
     "name": "stdout",
     "output_type": "stream",
     "text": [
      " processing epoch 0\n",
      " processing epoch 1\n",
      " processing epoch 2\n",
      " processing epoch 3\n",
      " processing epoch 4\n",
      " processing epoch 5\n",
      " processing epoch 6\n",
      " processing epoch 7\n",
      " processing epoch 8\n",
      " processing epoch 9\n",
      " processing epoch 10\n",
      " processing epoch 11\n",
      " processing epoch 12\n",
      " processing epoch 13\n",
      " processing epoch 14\n",
      " processing epoch 15\n",
      " processing epoch 16\n",
      " processing epoch 17\n",
      " processing epoch 18\n",
      " processing epoch 19\n",
      " processing epoch 0\n",
      " processing epoch 1\n",
      " processing epoch 2\n",
      " processing epoch 3\n",
      " processing epoch 4\n",
      " processing epoch 5\n",
      " processing epoch 6\n",
      " processing epoch 7\n",
      " processing epoch 8\n",
      " processing epoch 9\n",
      " processing epoch 10\n",
      " processing epoch 11\n",
      " processing epoch 12\n",
      " processing epoch 13\n",
      " processing epoch 14\n",
      " processing epoch 15\n",
      " processing epoch 16\n",
      " processing epoch 17\n",
      " processing epoch 18\n",
      " processing epoch 19\n",
      " processing epoch 0\n",
      " processing epoch 1\n",
      " processing epoch 2\n",
      " processing epoch 3\n",
      " processing epoch 4\n",
      " processing epoch 5\n",
      " processing epoch 6\n",
      " processing epoch 7\n",
      " processing epoch 8\n",
      " processing epoch 9\n",
      " processing epoch 10\n",
      " processing epoch 11\n",
      " processing epoch 12\n",
      " processing epoch 13\n",
      " processing epoch 14\n",
      " processing epoch 15\n",
      " processing epoch 16\n",
      " processing epoch 17\n",
      " processing epoch 18\n",
      " processing epoch 19\n",
      " processing epoch 0\n",
      " processing epoch 1\n",
      " processing epoch 2\n",
      " processing epoch 3\n",
      " processing epoch 4\n",
      " processing epoch 5\n",
      " processing epoch 6\n",
      " processing epoch 7\n",
      " processing epoch 8\n",
      " processing epoch 9\n",
      " processing epoch 10\n",
      " processing epoch 11\n",
      " processing epoch 12\n",
      " processing epoch 13\n",
      " processing epoch 14\n",
      " processing epoch 15\n",
      " processing epoch 16\n",
      " processing epoch 17\n",
      " processing epoch 18\n",
      " processing epoch 19\n",
      " processing epoch 0\n",
      " processing epoch 1\n",
      " processing epoch 2\n",
      " processing epoch 3\n",
      " processing epoch 4\n",
      " processing epoch 5\n",
      " processing epoch 6\n",
      " processing epoch 7\n",
      " processing epoch 8\n",
      " processing epoch 9\n",
      " processing epoch 10\n",
      " processing epoch 11\n",
      " processing epoch 12\n",
      " processing epoch 13\n",
      " processing epoch 14\n",
      " processing epoch 15\n",
      " processing epoch 16\n",
      " processing epoch 17\n",
      " processing epoch 18\n",
      " processing epoch 19\n",
      "Evaluating RMSE, MAE, FCP of algorithm SVDpp on 5 split(s).\n",
      "\n",
      "                  Fold 1  Fold 2  Fold 3  Fold 4  Fold 5  Mean    Std     \n",
      "RMSE (testset)    1.2761  1.2757  1.2766  1.2768  1.2768  1.2764  0.0004  \n",
      "MAE (testset)     1.0393  1.0385  1.0400  1.0398  1.0398  1.0395  0.0005  \n",
      "FCP (testset)     0.5784  0.5810  0.5824  0.5799  0.5802  0.5804  0.0013  \n",
      "Fit time          2512.74 2508.26 2440.52 2347.50 2449.69 2451.74 59.85   \n",
      "Test time         86.37   79.21   65.99   62.32   65.29   71.84   9.31    \n"
     ]
    },
    {
     "data": {
      "text/plain": [
       "{'fit_time': (2512.735143661499,\n",
       "  2508.2623755931854,\n",
       "  2440.5247116088867,\n",
       "  2347.500657081604,\n",
       "  2449.694218635559),\n",
       " 'test_fcp': array([0.57835188, 0.58100226, 0.58243106, 0.5798982 , 0.5802495 ]),\n",
       " 'test_mae': array([1.0393247 , 1.03849194, 1.03995578, 1.03982831, 1.03976696]),\n",
       " 'test_rmse': array([1.27613359, 1.2756702 , 1.27664698, 1.27678444, 1.27682756]),\n",
       " 'test_time': (86.37213134765625,\n",
       "  79.20862555503845,\n",
       "  65.99044275283813,\n",
       "  62.323349714279175,\n",
       "  65.28745818138123)}"
      ]
     },
     "execution_count": 4,
     "metadata": {},
     "output_type": "execute_result"
    }
   ],
   "source": [
    "# Set the reader for the custom dataset we have loaded.\n",
    "reader = Reader(rating_scale=(1, 5))\n",
    "\n",
    "# The columns needed for the algorithm are specified in the format (user, item, ratings), specify the equivalent of that\n",
    "data = Dataset.load_from_df(reviews[['user_id', 'business_id', 'stars']], reader)\n",
    "\n",
    "# The CF algorithm to use\n",
    "algo = SVDpp(lr_all = 0.002, reg_all = 0.06, verbose = True)\n",
    "\n",
    "# Run 5-fold cross-validation and print results.\n",
    "cross_validate(algo, data, measures=['RMSE', 'MAE', 'FCP'], cv=5, verbose=True)"
   ]
  },
  {
   "cell_type": "code",
   "execution_count": null,
   "metadata": {},
   "outputs": [],
   "source": []
  }
 ],
 "metadata": {
  "kernelspec": {
   "display_name": "Python 3",
   "language": "python",
   "name": "python3"
  },
  "language_info": {
   "codemirror_mode": {
    "name": "ipython",
    "version": 3
   },
   "file_extension": ".py",
   "mimetype": "text/x-python",
   "name": "python",
   "nbconvert_exporter": "python",
   "pygments_lexer": "ipython3",
   "version": "3.6.4"
  }
 },
 "nbformat": 4,
 "nbformat_minor": 2
}
